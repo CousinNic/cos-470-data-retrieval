{
  "nbformat": 4,
  "nbformat_minor": 0,
  "metadata": {
    "colab": {
      "provenance": [],
      "collapsed_sections": []
    },
    "kernelspec": {
      "name": "python3",
      "display_name": "Python 3"
    },
    "language_info": {
      "name": "python"
    }
  },
  "cells": [
    {
      "cell_type": "code",
      "execution_count": null,
      "metadata": {
        "id": "f8mduUFGOlFa"
      },
      "outputs": [],
      "source": [
        "from post_parser_record import PostParserRecord\n",
        "post_reader = PostParserRecord(\"Posts_Coffee.xml\")"
      ]
    },
    {
      "cell_type": "markdown",
      "source": [
        "To run first place Posts_Coffee.xml, and post_parser_record.py in session storage, then create a folder in session storage named Entities and place Post.py inside"
      ],
      "metadata": {
        "id": "nR9Svym-cmfX"
      }
    },
    {
      "cell_type": "code",
      "source": [
        "#espresso\n",
        "import re\n",
        "import numpy as np\n",
        "import matplotlib.pyplot as plt\n",
        "\n",
        "#initializes variables \n",
        "recall = []\n",
        "precision = []\n",
        "matches_found = 0;\n",
        "temp_question = \"\"\n",
        "i= 0\n",
        "\n",
        "#runs through every post\n",
        "for question_id in post_reader.map_questions:\n",
        "  i += 1   \n",
        "  question = post_reader.map_questions[question_id]\n",
        "  temp_question = re.sub(r'[^a-z]', ' ', question.title.lower()).split(\" \") + re.sub(r'[^a-z]', ' ', question.body.lower()).split(\" \")\n",
        "  #goes through every word in a post\n",
        "  for word in temp_question:\n",
        "  #checks for a match, it it hmatches, stop searching this posts text\n",
        "    if word == \"espresso\":\n",
        "      matches_found += 1\n",
        "      break\n",
        "  \n",
        "  #printing for the first 10 post ids\n",
        "  if i < 11:\n",
        "    if word != \"espresso\": \n",
        "      print(\"      \", end=\"\")\n",
        "    else:\n",
        "      print(\"match \", end=\"\")\n",
        "    precision.append(matches_found/i)\n",
        "    recall.append(matches_found)    \n",
        "    print(question_id) \n",
        "#prints total matches found\n",
        "print(str(matches_found)+\" matches found\")\n",
        "\n",
        "#labels graph\n",
        "fig, ax = plt.subplots()\n",
        "ax.set(xlabel='recall', ylabel='precision')\n",
        "\n",
        "#final graph calculations\n",
        "for i in range(len(recall)):\n",
        "  recall[i] = recall[i] / matches_found\n",
        "print(\"Precision\"+str(precision)) \n",
        "print(\"Recall\"+str(recall)) \n",
        "\n",
        "#print graph\n",
        "plt.plot(recall,precision)\n"
      ],
      "metadata": {
        "colab": {
          "base_uri": "https://localhost:8080/",
          "height": 548
        },
        "id": "al5uimm8V1yZ",
        "outputId": "2fa82b89-7892-4300-e7ba-2dc291ccbc8b"
      },
      "execution_count": null,
      "outputs": [
        {
          "output_type": "stream",
          "name": "stdout",
          "text": [
            "      1\n",
            "match 2\n",
            "      3\n",
            "      4\n",
            "match 5\n",
            "      6\n",
            "match 9\n",
            "match 10\n",
            "      12\n",
            "      13\n",
            "307 matches found\n",
            "Precision[0.0, 0.5, 0.3333333333333333, 0.25, 0.4, 0.3333333333333333, 0.42857142857142855, 0.5, 0.4444444444444444, 0.4]\n",
            "Recall[0.0, 0.003257328990228013, 0.003257328990228013, 0.003257328990228013, 0.006514657980456026, 0.006514657980456026, 0.009771986970684038, 0.013029315960912053, 0.013029315960912053, 0.013029315960912053]\n"
          ]
        },
        {
          "output_type": "execute_result",
          "data": {
            "text/plain": [
              "[<matplotlib.lines.Line2D at 0x7f61482844d0>]"
            ]
          },
          "metadata": {},
          "execution_count": 11
        },
        {
          "output_type": "display_data",
          "data": {
            "text/plain": [
              "<Figure size 432x288 with 1 Axes>"
            ],
            "image/png": "[encoded data removed]"
          },
          "metadata": {
            "needs_background": "light"
          }
        }
      ]
    },
    {
      "cell_type": "code",
      "source": [
        "#turkish + coffee (and) \n",
        "\n",
        "import re\n",
        "import numpy as np\n",
        "import matplotlib.pyplot as plt\n",
        "\n",
        "#initializes variables \n",
        "coffee = 0\n",
        "turkish = 0\n",
        "recall = []\n",
        "precision = []\n",
        "matches_found = 0;\n",
        "temp_question = \"\"\n",
        "i= 0\n",
        "\n",
        "#runs through every post\n",
        "for question_id in post_reader.map_questions:\n",
        "  i += 1   \n",
        "  question = post_reader.map_questions[question_id]\n",
        "  temp_question = re.sub(r'[^a-z]', ' ', question.title.lower()).split(\" \") + re.sub(r'[^a-z]', ' ', question.body.lower()).split(\" \")\n",
        "  #goes through every word in a post\n",
        "  for word in temp_question:\n",
        "    #checks for a match, it it hmatches, stop searching this posts text\n",
        "    if word == \"coffee\":\n",
        "      coffee = 1\n",
        "    if word == \"turkish\":\n",
        "      turkish = 1\n",
        "    if coffee is 1 and turkish is 1:\n",
        "      matches_found += 1\n",
        "      turkish = 0\n",
        "      coffee = 0\n",
        "      break\n",
        "      #printing for the first 10 post ids\n",
        "  if i < 11:\n",
        "    precision.append(matches_found/i)\n",
        "    recall.append(matches_found)    \n",
        "    print(question_id) \n",
        "    #prints total matches found\n",
        "print(str(matches_found)+\" matches found\")\n",
        "\n",
        "#labels graph\n",
        "fig, ax = plt.subplots()\n",
        "ax.set(xlabel='recall', ylabel='precision')\n",
        "\n",
        "#final graph calculations\n",
        "for i in range(len(recall)):\n",
        "  recall[i] = recall[i] / matches_found\n",
        "print(\"Precision\"+str(precision)) \n",
        "print(\"Recall\"+str(recall)) \n",
        "#print graph\n",
        "plt.plot(recall,precision)\n"
      ],
      "metadata": {
        "id": "0QlsRQbsWWn9",
        "colab": {
          "base_uri": "https://localhost:8080/",
          "height": 522
        },
        "outputId": "a662d516-43b2-4d59-b965-c60c7cac9f70"
      },
      "execution_count": null,
      "outputs": [
        {
          "output_type": "stream",
          "name": "stdout",
          "text": [
            "1\n",
            "2\n",
            "3\n",
            "4\n",
            "5\n",
            "6\n",
            "9\n",
            "10\n",
            "12\n",
            "13\n",
            "27 matches found\n",
            "Precision[0.0, 0.0, 0.0, 0.0, 0.0, 0.0, 0.0, 0.0, 0.0, 0.0]\n",
            "Recall[0.0, 0.0, 0.0, 0.0, 0.0, 0.0, 0.0, 0.0, 0.0, 0.0]\n"
          ]
        },
        {
          "output_type": "execute_result",
          "data": {
            "text/plain": [
              "[<matplotlib.lines.Line2D at 0x7fc7b4e50890>]"
            ]
          },
          "metadata": {},
          "execution_count": 8
        },
        {
          "output_type": "display_data",
          "data": {
            "text/plain": [
              "<Figure size 432x288 with 1 Axes>"
            ],
            "image/png": "[encoded data removed]"
          },
          "metadata": {
            "needs_background": "light"
          }
        }
      ]
    },
    {
      "cell_type": "code",
      "source": [
        "#turkish + coffee (or)\n",
        "\n",
        "import re\n",
        "import numpy as np\n",
        "import matplotlib.pyplot as plt\n",
        "\n",
        "#initializes variables \n",
        "recall = []\n",
        "precision = []\n",
        "matches_found = 0;\n",
        "temp_question = \"\"\n",
        "i= 0\n",
        "\n",
        "#runs through every post\n",
        "for question_id in post_reader.map_questions:\n",
        "  i += 1   \n",
        "  question = post_reader.map_questions[question_id]\n",
        "  temp_question = re.sub(r'[^a-z]', ' ', question.title.lower()).split(\" \") + re.sub(r'[^a-z]', ' ', question.body.lower()).split(\" \")\n",
        "  #goes through every word in a post\n",
        "  for word in temp_question:\n",
        "    #checks for a match, it it hmatches, stop searching this posts text\n",
        "    if word == \"coffee\" or word == \"turkish\":\n",
        "      matches_found += 1\n",
        "      break\n",
        "      #printing for the first 10 post ids\n",
        "  if i < 11:\n",
        "    if word == \"coffee\" or word == \"turkish\": \n",
        "      print(\"match \", end=\"\")\n",
        "    else:\n",
        "      print(\"      \", end=\"\")\n",
        "    precision.append(matches_found/i)\n",
        "    recall.append(matches_found)    \n",
        "    print(question_id) \n",
        "    #prints total matches found\n",
        "print(str(matches_found)+\" matches found\")\n",
        "\n",
        "#labels graph\n",
        "fig, ax = plt.subplots()\n",
        "ax.set(xlabel='recall', ylabel='precision')\n",
        "\n",
        "#final graph calculations\n",
        "for i in range(len(recall)):\n",
        "  recall[i] = recall[i] / matches_found\n",
        "print(\"Precision\"+str(precision)) \n",
        "print(\"Recall\"+str(recall)) \n",
        "#print graph\n",
        "plt.plot(recall,precision)\n"
      ],
      "metadata": {
        "id": "NGGn8utLWWhf",
        "colab": {
          "base_uri": "https://localhost:8080/",
          "height": 548
        },
        "outputId": "6bfeb961-6e33-49de-db49-e83f50bb3de1"
      },
      "execution_count": null,
      "outputs": [
        {
          "output_type": "stream",
          "name": "stdout",
          "text": [
            "match 1\n",
            "match 2\n",
            "match 3\n",
            "match 4\n",
            "match 5\n",
            "match 6\n",
            "match 9\n",
            "match 10\n",
            "match 12\n",
            "match 13\n",
            "1126 matches found\n",
            "Precision[1.0, 1.0, 1.0, 1.0, 1.0, 1.0, 1.0, 1.0, 1.0, 1.0]\n",
            "Recall[0.0008880994671403197, 0.0017761989342806395, 0.0026642984014209592, 0.003552397868561279, 0.004440497335701598, 0.0053285968028419185, 0.006216696269982238, 0.007104795737122558, 0.007992895204262877, 0.008880994671403197]\n"
          ]
        },
        {
          "output_type": "execute_result",
          "data": {
            "text/plain": [
              "[<matplotlib.lines.Line2D at 0x7f6148272110>]"
            ]
          },
          "metadata": {},
          "execution_count": 12
        },
        {
          "output_type": "display_data",
          "data": {
            "text/plain": [
              "<Figure size 432x288 with 1 Axes>"
            ],
            "image/png": "[encoded data removed]"
          },
          "metadata": {
            "needs_background": "light"
          }
        }
      ]
    },
    {
      "cell_type": "code",
      "source": [
        "#persian + coffee (not-and)\n",
        "\n",
        "import re\n",
        "import numpy as np\n",
        "import matplotlib.pyplot as plt\n",
        "\n",
        "#initializes variables \n",
        "recall = []\n",
        "precision = []\n",
        "matches_found = 0;\n",
        "temp_question = \"\"\n",
        "i= 0\n",
        "\n",
        "#runs through every post\n",
        "for question_id in post_reader.map_questions:\n",
        "  i += 1   \n",
        "  question = post_reader.map_questions[question_id]\n",
        "  temp_question = re.sub(r'[^a-z]', ' ', question.title.lower()).split(\" \") + re.sub(r'[^a-z]', ' ', question.body.lower()).split(\" \")\n",
        "  #goes through every word in a post\n",
        "  for word in temp_question:\n",
        "    #checks for a match, it it hmatches, stop searching this posts text\n",
        "    if word != \"persian\" and word != \"coffee\":\n",
        "      matches_found += 1\n",
        "      break\n",
        "      #printing for the first 10 post ids\n",
        "  if i < 11:\n",
        "    if word == \"persian\" and word == \"coffee\": \n",
        "      print(\"      \", end=\"\")\n",
        "    else:\n",
        "      print(\"match \", end=\"\")\n",
        "\n",
        "    precision.append(matches_found/i)\n",
        "    recall.append(matches_found)    \n",
        "    print(question_id) \n",
        "    #prints total matches found\n",
        "print(str(matches_found)+\" matches found\")\n",
        "\n",
        "#labels graph\n",
        "fig, ax = plt.subplots()\n",
        "ax.set(xlabel='recall', ylabel='precision')\n",
        "\n",
        "#final graph calculations\n",
        "for i in range(len(recall)):\n",
        "  if matches_found != 0:\n",
        "    recall[i] = recall[i] / matches_found\n",
        "print(\"Precision\"+str(precision)) \n",
        "print(\"Recall\"+str(recall))  \n",
        "#print graph\n",
        "plt.plot(recall,precision)\n"
      ],
      "metadata": {
        "id": "k7Btir78WWYo",
        "colab": {
          "base_uri": "https://localhost:8080/",
          "height": 548
        },
        "outputId": "d6b90eb9-46e0-4e29-d029-a33c8fa05c07"
      },
      "execution_count": null,
      "outputs": [
        {
          "output_type": "stream",
          "name": "stdout",
          "text": [
            "match 1\n",
            "match 2\n",
            "match 3\n",
            "match 4\n",
            "match 5\n",
            "match 6\n",
            "match 9\n",
            "match 10\n",
            "match 12\n",
            "match 13\n",
            "1370 matches found\n",
            "Precision[1.0, 1.0, 1.0, 1.0, 1.0, 1.0, 1.0, 1.0, 1.0, 1.0]\n",
            "Recall[0.00072992700729927, 0.00145985401459854, 0.0021897810218978104, 0.00291970802919708, 0.0036496350364963502, 0.004379562043795621, 0.0051094890510948905, 0.00583941605839416, 0.006569343065693431, 0.0072992700729927005]\n"
          ]
        },
        {
          "output_type": "execute_result",
          "data": {
            "text/plain": [
              "[<matplotlib.lines.Line2D at 0x7f61481f1150>]"
            ]
          },
          "metadata": {},
          "execution_count": 13
        },
        {
          "output_type": "display_data",
          "data": {
            "text/plain": [
              "<Figure size 432x288 with 1 Axes>"
            ],
            "image/png": "[encoded data removed]"
          },
          "metadata": {
            "needs_background": "light"
          }
        }
      ]
    }
  ]
}