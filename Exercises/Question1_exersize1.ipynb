{
  "nbformat": 4,
  "nbformat_minor": 0,
  "metadata": {
    "colab": {
      "provenance": [],
      "collapsed_sections": []
    },
    "kernelspec": {
      "name": "python3",
      "display_name": "Python 3"
    },
    "language_info": {
      "name": "python"
    }
  },
  "cells": [
    {
      "cell_type": "code",
      "execution_count": null,
      "metadata": {
        "id": "IBVjIWRD6OIB"
      },
      "outputs": [],
      "source": [
        "# for loop fro printing odd numbers\n",
        "for number in range(0, 101):\n",
        "  if number %2 != 0:\n",
        "    print(number)"
      ]
    },
    {
      "cell_type": "code",
      "source": [
        "def summation_even_numbers(start, end):\n",
        "\n",
        "  summation = 0\n",
        "  #calculates summation \n",
        "  for number in range(start, end+1): \n",
        "    if number%2==0:\n",
        "      summation += number\n",
        "  return summation\n",
        "\n",
        "summation_even_numbers(1,10)"
      ],
      "metadata": {
        "id": "eHuVTYUXmN2e",
        "colab": {
          "base_uri": "https://localhost:8080/"
        },
        "outputId": "addcf462-5158-4705-d975-c064e62bf9c6"
      },
      "execution_count": null,
      "outputs": [
        {
          "output_type": "execute_result",
          "data": {
            "text/plain": [
              "30"
            ]
          },
          "metadata": {},
          "execution_count": 1
        }
      ]
    },
    {
      "cell_type": "code",
      "source": [
        "my_list = []\n",
        "import random\n",
        "#adds 10 random numbers\n",
        "for i in range(10):\n",
        "  my_list.append(random.randint(1, 10))\n",
        "#prints the list\n",
        "print(my_list)\n",
        "print(\"-------------------------------\")\n",
        "#prints max and min numbers in list\n",
        "print(\"max \"+str(max(my_list)))\n",
        "print(\"min \"+str(min(my_list)))\n",
        "print(\"-----------Sorted--------------\")\n",
        "#sorts then prints the list\n",
        "my_list.sort()\n",
        "print(my_list)\n",
        "print(\"-----------Shuffle-------------\")\n",
        "#shuffles then prints the list\n",
        "random.shuffle(my_list)\n",
        "print(my_list)\n",
        "print(\"-------------------------------\")"
      ],
      "metadata": {
        "id": "2J-JwMAemzxp",
        "colab": {
          "base_uri": "https://localhost:8080/"
        },
        "outputId": "c154be21-2adc-41f7-e902-59ca8204e835"
      },
      "execution_count": null,
      "outputs": [
        {
          "output_type": "stream",
          "name": "stdout",
          "text": [
            "[4, 5, 7, 2, 8, 6, 10, 4, 9, 4]\n",
            "-------------------------------\n",
            "max 10\n",
            "min 2\n",
            "-----------Sorted--------------\n",
            "[2, 4, 4, 4, 5, 6, 7, 8, 9, 10]\n",
            "-----------Shuffle-------------\n",
            "[4, 4, 7, 10, 4, 9, 5, 2, 6, 8]\n",
            "-------------------------------\n"
          ]
        }
      ]
    },
    {
      "cell_type": "code",
      "source": [
        "my_dictionary = {'a': 1, 'd': 4, 'b': 2, 'c': 3}\n",
        "#print(my_dictionary)\n",
        "\n",
        "#prints dictionary\n",
        "for key in sorted(my_dictionary):\n",
        "  print(\"%s: %s\" % (key, my_dictionary[key]))\n",
        "  #prints dictionary horizontal\n",
        "print(my_dictionary)\n",
        "\n",
        "print(\"sorted in decending order\")\n",
        "#sorts then prints dictionary\n",
        "sorted_by_value = dict(sorted(my_dictionary.items(), key=lambda item: item[1]))\n",
        "print(sorted_by_value)\n",
        "#reverses then prints dictionary\n",
        "sorted_by_value = dict(sorted(my_dictionary.items(), key=lambda item: item[1], reverse=True))\n",
        "print(sorted_by_value)\n",
        "print(\"with new tuple\")\n",
        "#adds new tuple then prints dictionary\n",
        "my_dictionary['e'] = 5\n",
        "print(my_dictionary)\n"
      ],
      "metadata": {
        "id": "9_Pfz0Nrocyy",
        "colab": {
          "base_uri": "https://localhost:8080/"
        },
        "outputId": "dddba681-e9d0-4466-8fb0-bf1ec2fcc07a"
      },
      "execution_count": null,
      "outputs": [
        {
          "output_type": "stream",
          "name": "stdout",
          "text": [
            "a: 1\n",
            "b: 2\n",
            "c: 3\n",
            "d: 4\n",
            "{'a': 1, 'd': 4, 'b': 2, 'c': 3}\n",
            "sorted in decending order\n",
            "{'a': 1, 'b': 2, 'c': 3, 'd': 4}\n",
            "{'d': 4, 'c': 3, 'b': 2, 'a': 1}\n",
            "with new tuple\n",
            "{'a': 1, 'd': 4, 'b': 2, 'c': 3, 'e': 5}\n"
          ]
        }
      ]
    }
  ]
}