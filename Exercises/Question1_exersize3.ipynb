{
  "nbformat": 4,
  "nbformat_minor": 0,
  "metadata": {
    "colab": {
      "provenance": [],
      "collapsed_sections": []
    },
    "kernelspec": {
      "name": "python3",
      "display_name": "Python 3"
    },
    "language_info": {
      "name": "python"
    }
  },
  "cells": [
    {
      "cell_type": "code",
      "execution_count": 1,
      "metadata": {
        "colab": {
          "base_uri": "https://localhost:8080/"
        },
        "id": "k0OiWvNHK_Ll",
        "outputId": "7d058be2-a766-4a45-e6fc-da5f96e69408"
      },
      "outputs": [
        {
          "output_type": "stream",
          "name": "stdout",
          "text": [
            "Looking in indexes: https://pypi.org/simple, https://us-python.pkg.dev/colab-wheels/public/simple/\n",
            "Requirement already satisfied: pandas in /usr/local/lib/python3.7/dist-packages (1.3.5)\n",
            "Requirement already satisfied: pytz>=2017.3 in /usr/local/lib/python3.7/dist-packages (from pandas) (2022.2.1)\n",
            "Requirement already satisfied: numpy>=1.17.3 in /usr/local/lib/python3.7/dist-packages (from pandas) (1.21.6)\n",
            "Requirement already satisfied: python-dateutil>=2.7.3 in /usr/local/lib/python3.7/dist-packages (from pandas) (2.8.2)\n",
            "Requirement already satisfied: six>=1.5 in /usr/local/lib/python3.7/dist-packages (from python-dateutil>=2.7.3->pandas) (1.15.0)\n"
          ]
        }
      ],
      "source": [
        "!pip install pandas"
      ]
    },
    {
      "cell_type": "code",
      "source": [
        "!ls"
      ],
      "metadata": {
        "colab": {
          "base_uri": "https://localhost:8080/"
        },
        "id": "iA5F7xKCLevj",
        "outputId": "2559bb55-089d-4e70-999e-821bd63bd3f5"
      },
      "execution_count": null,
      "outputs": [
        {
          "output_type": "stream",
          "name": "stdout",
          "text": [
            "sample_data\n"
          ]
        }
      ]
    },
    {
      "cell_type": "code",
      "source": [
        "from google.colab import drive\n",
        "drive.mount('/content/drive')"
      ],
      "metadata": {
        "colab": {
          "base_uri": "https://localhost:8080/"
        },
        "id": "G0GWdojwLlEu",
        "outputId": "014a565c-a5f8-4da2-94f8-44c2a5498bf6"
      },
      "execution_count": null,
      "outputs": [
        {
          "output_type": "stream",
          "name": "stdout",
          "text": [
            "Mounted at /content/drive\n"
          ]
        }
      ]
    },
    {
      "cell_type": "code",
      "source": [
        "import pandas as pd\n",
        "#reads file\n",
        "data_frame = pd.read_csv('quotes.tsv', sep='\\t', header=0)\n",
        "#searches and prints quotes\n",
        "for index, row in data_frame.iterrows():\n",
        "   print(row['Author'], row['Quote'])\n",
        "\n",
        "print(\"Number of quotes from Alexandre Dumas is: \"+str(counter_AD))\n",
        " \n"
      ],
      "metadata": {
        "colab": {
          "base_uri": "https://localhost:8080/"
        },
        "id": "82k5UdoMMcXn",
        "outputId": "2a5edbed-9ed9-498a-bcb2-513b640cf1c1"
      },
      "execution_count": null,
      "outputs": [
        {
          "output_type": "stream",
          "name": "stdout",
          "text": [
            "Agatha Christie I like living. I have sometimes been wildly, despairingly, acutely miserable, racked with sorrow; but through it all I still know quite certainly that just to be alive is a grand thing.\n",
            "Agatha Christie The impossible could not have happened, therefore the impossible must be possible in spite of appearances. \n",
            "Agatha Christie Poirot, I said. I have been thinking. An admirable exercise my friend. Continue it. \n",
            "Agatha Christie Instinct is a marvelous thing. It can neither be explained nor ignored.\n",
            "Agatha Christie The best time for planning a book is while you're doing the dishes. \n",
            "Agatha Christie You gave too much rein to your imagination. Imagination is a good servant, and a bad master. The simplest explanation is always the most likely.\n",
            "Agatha Christie It is really a hard life. Men will not be nice to you if you are not good-looking, and women will not be nice to you if you are.\n",
            "Agatha Christie Good advice is always certain to be ignored, but that's no reason not to give it. \n",
            "Agatha Christie The truth, however ugly in itself, is always curious and beautiful to seekers after it.\n",
            "Agatha Christie A man when he is making up to anybody can be cordial and gallant and full of little attentions and altogether charming. But when a man is really in love he can't help looking like a sheep.\n",
            "Agatha Christie It's like all those quiet people, when they do lose their tempers they lose them with a vengeance.\n",
            "Agatha Christie They tried to be too clever---and that was their undoing.\n",
            "Agatha Christie They conceive a certain theory, and everything has to fit into that theory. If one little fact will not fit it, they throw it aside. But it is always the facts that will not fit in that are significant. \n",
            "Alexander Pope Blessed is he who expects nothing, for he shall never be disappointed. \n",
            "Alexandre Dumas There is neither happiness nor misery in the world; there is only the comparison of one state with another, nothing more. He who has felt the deepest grief is best able to experience supreme happiness. We must have felt what it is to die, Morrel, that we may appreciate the enjoyments of life.\n",
            "Alexandre Dumas All human wisdom is contained in these two words - Wait and Hope\n",
            "Alexandre Dumas Never fear quarrels, but seek hazardous adventures.\n",
            "Alexandre Dumas Moral wounds have this peculiarity - they may be hidden, but they never close; always painful, always ready to bleed when touched, they remain fresh and open in the heart.\n",
            "Alexandre Dumas Life is a storm, my young friend. You will bask in the sunlight one moment, be shattered on the rocks the next. What makes you a man is what you do when that storm comes.\n",
            "Alexandre Dumas All for one and one for all, united we stand divided we fall.\n",
            "Alexandre Dumas I don't think man was meant to attain happiness so easily. Happiness is like those palaces in fairy tales whose gates are guarded by dragons: we must fight in order to conquer it.\n",
            "Alexandre Dumas I am hungry, feed me; I am bored, amuse me.\n",
            "Alexandre Dumas A person who doubts himself is like a man who would enlist in the ranks of his enemies and bear arms against himself. He makes his failures certain by himself being the first person to be convinced of it.\n",
            "Alexandre Dumas I hate this life of the fashionable world, always ordered, measured, ruled, like our music-paper. What I have always wished for, desired, and coveted, is the life of an artist, free and independent, relying only on my own resources, and accountable only to myself.\n",
            "Anton Chekhov Don't tell me the moon is shining; show me the glint of light on broken glass.\n",
            "Anton Chekhov Any idiot can face a crisis; it's this day-to-day living that wears you out.\n",
            "Anton Chekhov The role of the artist is to ask questions, not answer them.\n",
            "Anton Chekhov What a fine weather today! Can't choose whether to drink tea or to hang myself.\n",
            "Anton Chekhov There is nothing more awful, insulting, and depressing than banality.\n",
            "Anton Chekhov Do you see that tree? It is dead but it still sways in the wind with the others. I think it would be like that with me. That if I died I would still be part of life in one way or another.\n",
            "Anton Chekhov Fine. Since the tea is not forthcoming, let's have a philosophical conversation.\n",
            "Anton Chekhov There will come a time when everybody will know why, for what purpose, there is all this suffering, and there will be no more mysteries. But now we must live ... we must work, just work!\n",
            "Arthur Conan Doyle When you have eliminated all which is impossible, then whatever remains, however improbable, must be the truth.\n",
            "Arthur Conan Doyle You see, but you do not observe.\n",
            "Arthur Conan Doyle There is nothing more deceptive than an obvious fact.\n",
            "Arthur Conan Doyle It is a capital mistake to theorize before one has data. Insensibly one begins to twist facts to suit theories, instead of theories to suit facts.\n",
            "Arthur Conan Doyle Now the skillful workman is very careful indeed as to what he takes into his brain-attic. He will have nothing but the tools which may help him in doing his work, but of these he has a large assortment, and all in the most perfect order.\n",
            "Arthur Conan Doyle Watson. Come at once if convenient. If inconvenient, come all the same.\n",
            "Arthur Conan Doyle My mind, he said, rebels at stagnation. Give me problems, give me work, give me the most abstruse cryptogram or the most intricate analysis, and I am in my own proper atmosphere. I can dispense then with artificial stimulants. But I abhor the dull routine of existence. I crave for mental exaltation. That is why I have chosen my own particular profession, or rather created it, for I am the only one in the world.\n",
            "Arthur Conan Doyle I am a brain, Watson. The rest of me is a mere appendix.\n",
            "Arthur Conan Doyle There are always some lunatics about. It would be a dull world without them.\n",
            "Arthur Conan Doyle I'm not a psychopath, I'm a high-functioning sociopath. Do your research.\n",
            "Arthur Conan Doyle Is there any point to which you would wish to draw my attention?' 'To the curious incident of the dog in the night-time.' 'The dog did nothing in the night-time.' 'That was the curious incident,' remarked Sherlock Holmes. \n",
            "Arthur Conan Doyle How often have I said to you that when you have eliminated the impossible, whatever remains, however improbable, must be the truth?\n",
            "Arthur Conan Doyle It's quite exciting, said Sherlock Holmes, with a yawn.\n",
            "Arthur Conan Doyle To Sherlock Holmes she is always the woman. I have seldom heard him mention her under any other name. In his eyes she eclipses and predominates the whole of her sex. It was not that he felt any emotion akin to love for Irene Adler. All emotions, and that one particularly, were abhorrent to his cold, precise but admirably balanced mind. He was, I take it, the most perfect reasoning and observing machine that the world has seen.... And yet there was but one woman to him, and that woman was the late Irene Adler, of dubious and questionable memory.\n",
            "Number of quotes from Alexandre Dumas is: 10\n"
          ]
        }
      ]
    },
    {
      "cell_type": "code",
      "source": [
        "templength = -1\n",
        "author = \"\"\n",
        "quote = \"\"\n",
        "#searches through quotes\n",
        "for index, row in data_frame.iterrows():\n",
        "  #if current quote is longer than the last longest, update\n",
        "  if len(row['Quote'].split(\" \")) > templength:\n",
        "    author = row['Author']\n",
        "    quote = row['Quote']\n",
        "    #print info for final longest quote\n",
        "print(row['Author'] + \" has the longest quote being\")\n",
        "print(row['Quote'])\n",
        "print(\"with \"  + str(len(quote.split(\" \"))) + \" words\")"
      ],
      "metadata": {
        "colab": {
          "base_uri": "https://localhost:8080/"
        },
        "id": "M09IRmhKOSEQ",
        "outputId": "58079fd6-a269-4844-d91a-d38453b38c6f"
      },
      "execution_count": null,
      "outputs": [
        {
          "output_type": "stream",
          "name": "stdout",
          "text": [
            "Arthur Conan Doyle has the longest quote being\n",
            "To Sherlock Holmes she is always the woman. I have seldom heard him mention her under any other name. In his eyes she eclipses and predominates the whole of her sex. It was not that he felt any emotion akin to love for Irene Adler. All emotions, and that one particularly, were abhorrent to his cold, precise but admirably balanced mind. He was, I take it, the most perfect reasoning and observing machine that the world has seen.... And yet there was but one woman to him, and that woman was the late Irene Adler, of dubious and questionable memory.\n",
            "with 100 words\n"
          ]
        }
      ]
    },
    {
      "cell_type": "code",
      "source": [
        "authors = []\n",
        "#scans all quotes\n",
        "for index, row in data_frame.iterrows():\n",
        "  words = row['Quote'].split(\" \")\n",
        "  #checks every word in quote\n",
        "  for word in words:\n",
        "     if word == \"one\":\n",
        "       #if word was one and author was not allready added, then the author of the winning quote is added\n",
        "       if row['Author'] not in authors:\n",
        "        authors.append(row['Author'])\n",
        "\n",
        "print(\"authors who used the word \\\"one\\\" in their quotes: \" + str(authors))\n"
      ],
      "metadata": {
        "colab": {
          "base_uri": "https://localhost:8080/"
        },
        "id": "Vi-Sn-66VwKi",
        "outputId": "a055c1ae-5db4-4113-9e02-84d14e7af3da"
      },
      "execution_count": null,
      "outputs": [
        {
          "output_type": "stream",
          "name": "stdout",
          "text": [
            "authors who used the word \"one\" in their quotes: ['Agatha Christie', 'Alexandre Dumas', 'Anton Chekhov', 'Arthur Conan Doyle']\n"
          ]
        }
      ]
    },
    {
      "cell_type": "code",
      "source": [
        "from collections import Counter\n",
        "result = Counter()\n",
        "#runs through each quote and splits by space\n",
        "for index, row in data_frame.iterrows():\n",
        "   words = row['Quote'].split(\" \")\n",
        "   counter_words = Counter(words)\n",
        "   result = result + counter_words\n",
        "   #sorts split words\n",
        "sorted_by_value = dict(sorted(result.items(), key=lambda item: item[1], reverse=True))\n",
        "print(\"The most repeated word is \\\"\" + list(sorted_by_value.keys())[0] +\"\\\" with frequency of \"+ str(list(sorted_by_value.values())[0]))\n",
        "print(\"The least repeated word is \\\"\" + list(sorted_by_value.keys())[-1] +\"\\\" with frequency of \"+ str(list(sorted_by_value.values())[-1]))"
      ],
      "metadata": {
        "colab": {
          "base_uri": "https://localhost:8080/"
        },
        "id": "cq-tZOorVv5b",
        "outputId": "001af999-e5b8-4dd6-b7e7-f0995227e0b5"
      },
      "execution_count": null,
      "outputs": [
        {
          "output_type": "stream",
          "name": "stdout",
          "text": [
            "The most repeated word is \"the\" with frequency of 44\n",
            "The least repeated word is \"memory.\" with frequency of 1\n"
          ]
        }
      ]
    }
  ]
}