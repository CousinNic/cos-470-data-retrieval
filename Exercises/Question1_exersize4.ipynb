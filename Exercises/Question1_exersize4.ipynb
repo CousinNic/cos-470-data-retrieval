{
  "nbformat": 4,
  "nbformat_minor": 0,
  "metadata": {
    "colab": {
      "provenance": [],
      "collapsed_sections": []
    },
    "kernelspec": {
      "name": "python3",
      "display_name": "Python 3"
    },
    "language_info": {
      "name": "python"
    }
  },
  "cells": [
    {
      "cell_type": "code",
      "execution_count": null,
      "metadata": {
        "id": "uK8czAOBsZ4C"
      },
      "outputs": [],
      "source": [
        "from post_parser_record import PostParserRecord\n",
        "post_reader = PostParserRecord(\"Posts_Coffee.xml\")"
      ]
    },
    {
      "cell_type": "code",
      "source": [
        "number_questions = len(post_reader.map_questions.keys())\n",
        "number_answers = len(post_reader.map_answers.keys())\n",
        " #simply prints the amount of questions and answers in the .xml file\n",
        "print(\"The number of questions is: \"+str(number_questions))\n",
        "print(\"The number of answers is: \"+str(number_answers))"
      ],
      "metadata": {
        "colab": {
          "base_uri": "https://localhost:8080/"
        },
        "id": "x7KAbrfNvZpH",
        "outputId": "84c58410-64e3-48f9-bd19-0a2a3b89ff31"
      },
      "execution_count": null,
      "outputs": [
        {
          "output_type": "stream",
          "name": "stdout",
          "text": [
            "The number of questions is: 1370\n",
            "The number of answers is: 1280\n"
          ]
        }
      ]
    },
    {
      "cell_type": "code",
      "source": [
        "total_number_questions = len(post_reader.map_questions.keys())\n",
        "print(\"Out of \"+str(total_number_questions) + \" questions\")\n",
        "accepted_awswers = 0\n",
        "#check each question\n",
        "for question_id in post_reader.map_questions:\n",
        "  #verifys if question has accepted answer\n",
        "  if post_reader.map_questions[question_id].accepted_answer_id is not None:\n",
        "    accepted_awswers+=1\n",
        "print(str(accepted_awswers)+\" are accepted answers\")"
      ],
      "metadata": {
        "colab": {
          "base_uri": "https://localhost:8080/"
        },
        "id": "4VEVTGCIveSf",
        "outputId": "1cc22996-ea14-43b5-bbc3-9a559a3eb5b3"
      },
      "execution_count": null,
      "outputs": [
        {
          "output_type": "stream",
          "name": "stdout",
          "text": [
            "Out of 1370 questions\n",
            "651 are accepted answers\n"
          ]
        }
      ]
    },
    {
      "cell_type": "code",
      "source": [
        "lowest = 0\n",
        "highest = 0\n",
        "#checks each question\n",
        "for question_id in post_reader.map_questions:\n",
        "  question = post_reader.map_questions[question_id]\n",
        "  #saves question score\n",
        "  score = question.score\n",
        "  #compares and changes highest and lowest scores\n",
        "  if score > highest:\n",
        "    highest = score\n",
        "  if score < lowest:\n",
        "    lowest = score\n",
        "print(\"The highest score for questions is: \"+str(highest))\n",
        "print(\"The lowest score for questions is: \"+str(lowest))"
      ],
      "metadata": {
        "colab": {
          "base_uri": "https://localhost:8080/"
        },
        "id": "6B2UZ6TUvn65",
        "outputId": "fa1555a5-b736-4ecb-efff-11f3c47f76bb"
      },
      "execution_count": null,
      "outputs": [
        {
          "output_type": "stream",
          "name": "stdout",
          "text": [
            "The highest score for questions is: 66\n",
            "The lowest score for questions is: -3\n"
          ]
        }
      ]
    },
    {
      "cell_type": "code",
      "source": [
        "num_of_answers = len(post_reader.map_just_answers.keys())\n",
        "total_words = 0\n",
        "#checks each answer\n",
        "for answer_id in post_reader.map_just_answers:\n",
        "  answer = post_reader.map_just_answers[answer_id]\n",
        "  #adds up total words of all answers\n",
        "  total_words += len(answer.body.split(\" \"))\n",
        "#calculates then prints average numbers\n",
        "print(\"The average number of words in each answer is: \"+str(total_words/number_answers))"
      ],
      "metadata": {
        "colab": {
          "base_uri": "https://localhost:8080/"
        },
        "id": "46guSXDcvjyX",
        "outputId": "85b0b91c-dfb8-4a52-c162-212ce48c9a7a"
      },
      "execution_count": null,
      "outputs": [
        {
          "output_type": "stream",
          "name": "stdout",
          "text": [
            "The average number of words in each answer is: 157.08919319022945\n"
          ]
        }
      ]
    },
    {
      "cell_type": "code",
      "source": [
        "dict_year_post = {}\n",
        "#goes through each question\n",
        "for question_id in post_reader.map_questions:\n",
        "  question = post_reader.map_questions[question_id]\n",
        "  year = question.creation_date.split(\"-\")[0]\n",
        "  if year in dict_year_post:\n",
        "    dict_year_post[year] += 1\n",
        "  else:\n",
        "    dict_year_post[year] = 1\n",
        "for answer_id in post_reader.map_just_answers:\n",
        "  answer = post_reader.map_just_answers[answer_id]\n",
        "  year = answer.creation_date.split(\"-\")[0]\n",
        "  if year in dict_year_post:\n",
        "    dict_year_post[year] += 1\n",
        "  else:\n",
        "    dict_year_post[year] = 1\n",
        "for year in dict_year_post:\n",
        "  print(year + \": \"+str(dict_year_post[year]))"
      ],
      "metadata": {
        "colab": {
          "base_uri": "https://localhost:8080/"
        },
        "id": "OOtzMzgfvjdP",
        "outputId": "3999f4a1-449b-48da-92fc-7dde3aadac88"
      },
      "execution_count": null,
      "outputs": [
        {
          "output_type": "stream",
          "name": "stdout",
          "text": [
            "2015: 1203\n",
            "2016: 772\n",
            "2017: 562\n",
            "2018: 521\n",
            "2019: 364\n",
            "2020: 307\n",
            "2021: 261\n",
            "2022: 82\n"
          ]
        }
      ]
    }
  ]
}